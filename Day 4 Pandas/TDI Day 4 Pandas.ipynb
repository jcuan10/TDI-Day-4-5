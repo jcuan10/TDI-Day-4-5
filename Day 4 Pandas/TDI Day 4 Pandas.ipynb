{
 "cells": [
  {
   "cell_type": "markdown",
   "id": "60573e40",
   "metadata": {},
   "source": [
    "Day 4: Pandas\n",
    "\n"
   ]
  },
  {
   "cell_type": "code",
   "execution_count": 1,
   "id": "6560c552",
   "metadata": {},
   "outputs": [],
   "source": [
    "import pandas as pd\n",
    "VECSPSB = pd.read_csv(\"Value_of_Energy_Cost_Savings_Program_Savings_for_Businesses_-_FY2020.csv\")"
   ]
  },
  {
   "cell_type": "code",
   "execution_count": 2,
   "id": "a73fffb6",
   "metadata": {},
   "outputs": [
    {
     "data": {
      "text/html": [
       "<div>\n",
       "<style scoped>\n",
       "    .dataframe tbody tr th:only-of-type {\n",
       "        vertical-align: middle;\n",
       "    }\n",
       "\n",
       "    .dataframe tbody tr th {\n",
       "        vertical-align: top;\n",
       "    }\n",
       "\n",
       "    .dataframe thead th {\n",
       "        text-align: right;\n",
       "    }\n",
       "</style>\n",
       "<table border=\"1\" class=\"dataframe\">\n",
       "  <thead>\n",
       "    <tr style=\"text-align: right;\">\n",
       "      <th></th>\n",
       "      <th>Company Name</th>\n",
       "      <th>company contact</th>\n",
       "      <th>company email</th>\n",
       "      <th>company phone</th>\n",
       "      <th>Address</th>\n",
       "      <th>City</th>\n",
       "      <th>State</th>\n",
       "      <th>Postcode</th>\n",
       "      <th>Industry</th>\n",
       "      <th>Industry descr</th>\n",
       "      <th>...</th>\n",
       "      <th>Savings from beginning receiving benefits</th>\n",
       "      <th>Borough</th>\n",
       "      <th>Latitude</th>\n",
       "      <th>Longitude</th>\n",
       "      <th>Community Board</th>\n",
       "      <th>Council District</th>\n",
       "      <th>Census Tract</th>\n",
       "      <th>BIN</th>\n",
       "      <th>BBL</th>\n",
       "      <th>NTA</th>\n",
       "    </tr>\n",
       "  </thead>\n",
       "  <tbody>\n",
       "    <tr>\n",
       "      <th>0</th>\n",
       "      <td>1 State Street</td>\n",
       "      <td>David Neiburg</td>\n",
       "      <td>eskoblo@energyspec.com</td>\n",
       "      <td>7186779077</td>\n",
       "      <td>1114 Avenue J</td>\n",
       "      <td>Brooklyn</td>\n",
       "      <td>NY</td>\n",
       "      <td>11230</td>\n",
       "      <td>Commercial</td>\n",
       "      <td>35 story building</td>\n",
       "      <td>...</td>\n",
       "      <td>349.78</td>\n",
       "      <td>Brooklyn</td>\n",
       "      <td>40.624784</td>\n",
       "      <td>-73.964920</td>\n",
       "      <td>314.0</td>\n",
       "      <td>44.0</td>\n",
       "      <td>534.0</td>\n",
       "      <td>3179818.0</td>\n",
       "      <td>3.067130e+09</td>\n",
       "      <td>Midwood</td>\n",
       "    </tr>\n",
       "    <tr>\n",
       "      <th>1</th>\n",
       "      <td>100 Church LLC</td>\n",
       "      <td>Edward A. Carroll</td>\n",
       "      <td>NaN</td>\n",
       "      <td>2125663000</td>\n",
       "      <td>100 Church Street</td>\n",
       "      <td>NY</td>\n",
       "      <td>NY</td>\n",
       "      <td>10007</td>\n",
       "      <td>Commercial</td>\n",
       "      <td>21 Floors</td>\n",
       "      <td>...</td>\n",
       "      <td>4423698.05</td>\n",
       "      <td>New York</td>\n",
       "      <td>40.712968</td>\n",
       "      <td>-74.009490</td>\n",
       "      <td>101.0</td>\n",
       "      <td>1.0</td>\n",
       "      <td>21.0</td>\n",
       "      <td>1001409.0</td>\n",
       "      <td>1.001250e+09</td>\n",
       "      <td>SoHo-TriBeCa-Civic Center-Little Italy</td>\n",
       "    </tr>\n",
       "    <tr>\n",
       "      <th>2</th>\n",
       "      <td>100 Wall Investments</td>\n",
       "      <td>Jerry Branam</td>\n",
       "      <td>NaN</td>\n",
       "      <td>2122487160</td>\n",
       "      <td>96 Wall Street</td>\n",
       "      <td>New York</td>\n",
       "      <td>NY</td>\n",
       "      <td>10005</td>\n",
       "      <td>Landlord</td>\n",
       "      <td>NaN</td>\n",
       "      <td>...</td>\n",
       "      <td>1814542.62</td>\n",
       "      <td>New York</td>\n",
       "      <td>40.705052</td>\n",
       "      <td>-74.007199</td>\n",
       "      <td>101.0</td>\n",
       "      <td>1.0</td>\n",
       "      <td>7.0</td>\n",
       "      <td>1000875.0</td>\n",
       "      <td>1.000380e+09</td>\n",
       "      <td>Battery Park City-Lower Manhattan</td>\n",
       "    </tr>\n",
       "    <tr>\n",
       "      <th>3</th>\n",
       "      <td>1-10 Bush Terminal Owner LP</td>\n",
       "      <td>Andrew Kimball</td>\n",
       "      <td>akimball@industrycity.com</td>\n",
       "      <td>3474178429</td>\n",
       "      <td>220 36th St, Suite 2A</td>\n",
       "      <td>Brooklyn</td>\n",
       "      <td>NY</td>\n",
       "      <td>11232</td>\n",
       "      <td>Landlord</td>\n",
       "      <td>Special Eligible Premises for eligible businesses</td>\n",
       "      <td>...</td>\n",
       "      <td>6755.31</td>\n",
       "      <td>Brooklyn</td>\n",
       "      <td>40.656061</td>\n",
       "      <td>-74.007334</td>\n",
       "      <td>307.0</td>\n",
       "      <td>38.0</td>\n",
       "      <td>2.0</td>\n",
       "      <td>3398687.0</td>\n",
       "      <td>3.006950e+09</td>\n",
       "      <td>Sunset Park West</td>\n",
       "    </tr>\n",
       "    <tr>\n",
       "      <th>4</th>\n",
       "      <td>120 Broadway Acquisitions JV, LLC (Ldmk)</td>\n",
       "      <td>Carl Letich</td>\n",
       "      <td>clettich@silvprop.com</td>\n",
       "      <td>2124064020</td>\n",
       "      <td>120 Broadway</td>\n",
       "      <td>New York</td>\n",
       "      <td>NY</td>\n",
       "      <td>10271</td>\n",
       "      <td>Commercial</td>\n",
       "      <td>NaN</td>\n",
       "      <td>...</td>\n",
       "      <td>3293055.08</td>\n",
       "      <td>New York</td>\n",
       "      <td>40.708546</td>\n",
       "      <td>-74.011041</td>\n",
       "      <td>101.0</td>\n",
       "      <td>1.0</td>\n",
       "      <td>7.0</td>\n",
       "      <td>1001026.0</td>\n",
       "      <td>1.000478e+09</td>\n",
       "      <td>Battery Park City-Lower Manhattan</td>\n",
       "    </tr>\n",
       "  </tbody>\n",
       "</table>\n",
       "<p>5 rows × 26 columns</p>\n",
       "</div>"
      ],
      "text/plain": [
       "                               Company Name    company contact  \\\n",
       "0                            1 State Street      David Neiburg   \n",
       "1                            100 Church LLC  Edward A. Carroll   \n",
       "2                      100 Wall Investments       Jerry Branam   \n",
       "3               1-10 Bush Terminal Owner LP     Andrew Kimball   \n",
       "4  120 Broadway Acquisitions JV, LLC (Ldmk)        Carl Letich   \n",
       "\n",
       "               company email company phone                Address      City  \\\n",
       "0     eskoblo@energyspec.com    7186779077          1114 Avenue J  Brooklyn   \n",
       "1                        NaN    2125663000      100 Church Street        NY   \n",
       "2                        NaN    2122487160         96 Wall Street  New York   \n",
       "3  akimball@industrycity.com    3474178429  220 36th St, Suite 2A  Brooklyn   \n",
       "4      clettich@silvprop.com    2124064020           120 Broadway  New York   \n",
       "\n",
       "  State  Postcode    Industry  \\\n",
       "0    NY     11230  Commercial   \n",
       "1    NY     10007  Commercial   \n",
       "2    NY     10005    Landlord   \n",
       "3    NY     11232    Landlord   \n",
       "4    NY     10271  Commercial   \n",
       "\n",
       "                                      Industry descr  ...  \\\n",
       "0                                  35 story building  ...   \n",
       "1                                          21 Floors  ...   \n",
       "2                                                NaN  ...   \n",
       "3  Special Eligible Premises for eligible businesses  ...   \n",
       "4                                                NaN  ...   \n",
       "\n",
       "  Savings from beginning receiving benefits   Borough   Latitude  Longitude  \\\n",
       "0                                    349.78  Brooklyn  40.624784 -73.964920   \n",
       "1                                4423698.05  New York  40.712968 -74.009490   \n",
       "2                                1814542.62  New York  40.705052 -74.007199   \n",
       "3                                   6755.31  Brooklyn  40.656061 -74.007334   \n",
       "4                                3293055.08  New York  40.708546 -74.011041   \n",
       "\n",
       "  Community Board  Council District  Census Tract        BIN           BBL  \\\n",
       "0           314.0              44.0         534.0  3179818.0  3.067130e+09   \n",
       "1           101.0               1.0          21.0  1001409.0  1.001250e+09   \n",
       "2           101.0               1.0           7.0  1000875.0  1.000380e+09   \n",
       "3           307.0              38.0           2.0  3398687.0  3.006950e+09   \n",
       "4           101.0               1.0           7.0  1001026.0  1.000478e+09   \n",
       "\n",
       "                                      NTA  \n",
       "0                                 Midwood  \n",
       "1  SoHo-TriBeCa-Civic Center-Little Italy  \n",
       "2       Battery Park City-Lower Manhattan  \n",
       "3                        Sunset Park West  \n",
       "4       Battery Park City-Lower Manhattan  \n",
       "\n",
       "[5 rows x 26 columns]"
      ]
     },
     "execution_count": 2,
     "metadata": {},
     "output_type": "execute_result"
    }
   ],
   "source": [
    "VECSPSB.head()"
   ]
  },
  {
   "cell_type": "code",
   "execution_count": 3,
   "id": "796a7533",
   "metadata": {},
   "outputs": [
    {
     "name": "stdout",
     "output_type": "stream",
     "text": [
      "<class 'pandas.core.frame.DataFrame'>\n",
      "RangeIndex: 450 entries, 0 to 449\n",
      "Data columns (total 26 columns):\n",
      " #   Column                                     Non-Null Count  Dtype  \n",
      "---  ------                                     --------------  -----  \n",
      " 0   Company Name                               450 non-null    object \n",
      " 1   company contact                            450 non-null    object \n",
      " 2   company email                              433 non-null    object \n",
      " 3   company phone                              450 non-null    object \n",
      " 4   Address                                    450 non-null    object \n",
      " 5   City                                       450 non-null    object \n",
      " 6   State                                      450 non-null    object \n",
      " 7   Postcode                                   450 non-null    int64  \n",
      " 8   Industry                                   450 non-null    object \n",
      " 9   Industry descr                             434 non-null    object \n",
      " 10  Company Type                               450 non-null    object \n",
      " 11  Current fulltime                           446 non-null    float64\n",
      " 12  Job created                                11 non-null     float64\n",
      " 13  Job retain                                 14 non-null     float64\n",
      " 14  Effective Date                             450 non-null    object \n",
      " 15  Total Savings                              450 non-null    float64\n",
      " 16  Savings from beginning receiving benefits  450 non-null    float64\n",
      " 17  Borough                                    450 non-null    object \n",
      " 18  Latitude                                   409 non-null    float64\n",
      " 19  Longitude                                  409 non-null    float64\n",
      " 20  Community Board                            409 non-null    float64\n",
      " 21  Council District                           409 non-null    float64\n",
      " 22  Census Tract                               409 non-null    float64\n",
      " 23  BIN                                        401 non-null    float64\n",
      " 24  BBL                                        401 non-null    float64\n",
      " 25  NTA                                        409 non-null    object \n",
      "dtypes: float64(12), int64(1), object(13)\n",
      "memory usage: 91.5+ KB\n"
     ]
    }
   ],
   "source": [
    "VECSPSB.info()"
   ]
  },
  {
   "cell_type": "markdown",
   "id": "cbed6f1d",
   "metadata": {},
   "source": [
    "\n",
    "How many different companies are represented in the data set?\n"
   ]
  },
  {
   "cell_type": "code",
   "execution_count": 4,
   "id": "2d2c0f2b",
   "metadata": {},
   "outputs": [
    {
     "data": {
      "text/plain": [
       "439"
      ]
     },
     "execution_count": 4,
     "metadata": {},
     "output_type": "execute_result"
    }
   ],
   "source": [
    "VECSPSB[\"Company Name\"].nunique()"
   ]
  },
  {
   "cell_type": "markdown",
   "id": "935ed0fe",
   "metadata": {},
   "source": [
    "\n",
    "What is the total number of jobs created for businesses in Queens?\n"
   ]
  },
  {
   "cell_type": "code",
   "execution_count": 5,
   "id": "1075b807",
   "metadata": {},
   "outputs": [
    {
     "data": {
      "text/plain": [
       "Borough\n",
       "Bronx             22.0\n",
       "Brooklyn          25.0\n",
       "New York           0.0\n",
       "Queens           102.0\n",
       "Staten Island      0.0\n",
       "Name: Job created, dtype: float64"
      ]
     },
     "execution_count": 5,
     "metadata": {},
     "output_type": "execute_result"
    }
   ],
   "source": [
    "VECSPSB.groupby('Borough')['Job created'].sum()"
   ]
  },
  {
   "cell_type": "code",
   "execution_count": 6,
   "id": "6e0135db",
   "metadata": {},
   "outputs": [
    {
     "data": {
      "text/plain": [
       "Borough\n",
       "Queens    102.0\n",
       "Name: Job created, dtype: float64"
      ]
     },
     "execution_count": 6,
     "metadata": {},
     "output_type": "execute_result"
    }
   ],
   "source": [
    "VECSPSB.query('Borough == \"Queens\"').groupby('Borough')['Job created'].sum()"
   ]
  },
  {
   "cell_type": "markdown",
   "id": "b689c67e",
   "metadata": {},
   "source": [
    "\n",
    "How many different unique email domains names are there in the data set?\n"
   ]
  },
  {
   "cell_type": "code",
   "execution_count": 7,
   "id": "87ca49de",
   "metadata": {},
   "outputs": [],
   "source": [
    "list_ = VECSPSB['company email'].dropna()\n",
    "email_list = list_.values.tolist()\n"
   ]
  },
  {
   "cell_type": "code",
   "execution_count": 8,
   "id": "dda5c4b4",
   "metadata": {},
   "outputs": [
    {
     "name": "stdout",
     "output_type": "stream",
     "text": [
      "[('gmail.com', 30), ('aol.com', 22), ('energyspec.com', 3), ('yahoo.com', 3), ('silvercupstudios.com', 3), ('verizon.net', 3), ('hotmail.com', 3), ('fedex.com', 3), ('silvprop.com', 2), ('KLCNY.com', 2), ('yu.edu', 2), ('christies.com', 2), ('freshdirect.com', 2), ('Jetblue.com', 2), ('magellan.aero', 2), ('corfufoods.com', 2), ('montefiore.org', 2), ('spinmaster.com', 2), ('industrycity.com', 1), ('dial7.com', 1), ('atjelectrical.com', 1), ('am.jll.com', 1), ('21st centuryoptics.com', 1), ('4over4.com', 1), ('MEQS.com', 1), ('mdc-partners.com', 1), ('alscientific.com', 1), ('aksinternational.com', 1), ('abelcine.com', 1), ('abigal.com', 1), ('accenture.com', 1), ('bilingualsino.com', 1), ('actioncarting.com', 1), ('aduiepyle.com', 1), ('consultant.aecom.com', 1), ('remains.com', 1), ('afcindustries.com', 1), ('africanservices.com', 1), ('avac.org', 1), ('aladdinbakery.com', 1), ('alchemypaintworks.com', 1), ('allcitymetal.com', 1), ('alleprocessing.com', 1), ('netzero.net', 1), ('allisoneden.comP', 1), ('allstatemedical.com', 1), ('alrue.com', 1), ('amazon.com', 1), ('americanbridge.net', 1), ('folkartmuseum.org', 1), ('american-transit.com', 1), ('amysbread.com', 1), ('anhuser-busch.com', 1), ('apexglobe.com', 1), ('apple-bank.com', 1), ('approvedoil.com', 1), ('aristacoffee.com', 1), ('armadany.com', 1), ('arrowlinen.com', 1), ('asymptote.net', 1), ('bthayerassociates.com', 1), ('bcsroyal.com', 1), ('bpair.com', 1), ('blindbuildersusa.com', 1), ('baldorfood.com', 1), ('barkframeworks.com', 1), ('baronesteel.com', 1), ('barryxball.com', 1), ('bcga.com', 1), ('belomtmetals.com', 1), ('bensonmills.com', 1), ('bermudalimo.com', 1), ('BESTCASECELLULAR.COM', 1), ('bestmounting.com', 1), ('msn.com', 1), ('bigheavystudios.com', 1), ('billieannplastics.com', 1), ('bimmys.com', 1), ('earthlink.net', 1), ('blumb.com', 1), ('boycetech.com', 1), ('brkdistilling.com', 1), ('yorkstudios.com', 1), ('bwtglass.com', 1), ('brooklynitx.com', 1), ('jgewitrtzbrooklynnets.com', 1), ('us.ngrid.com', 1), ('brooklynbrands.com', 1), ('jonathanburden.com', 1), ('cameometal.com', 1), ('capjeff.com', 1), ('carltonhouse.net', 1), ('carnegielinen.com', 1), ('casualfilms.com', 1), ('cavcoroofing.com', 1), ('chase.com', 1), ('plexi-craft.com', 1), ('citi.com', 1), ('cbs-collins.com', 1), ('comfortbeddinginc.com', 1), ('mtmsalescorp.com', 1), ('csgny.com', 1), ('conceptfarm.com', 1), ('coolwind.biz', 1), ('coronetparts.com', 1), ('cosmoscommunications.com', 1), ('cotronics.com', 1), ('crepini.com', 1), ('crystallaketrading.com', 1), ('cyracom.com', 1), ('dsanddurga.com', 1), ('chefswarehouse.com', 1), ('Danielscuderi.com', 1), ('dartmedicallab.com', 1), ('dasnymech.com', 1), ('dcdad.com', 1), ('habersilver.com', 1), ('DTCC.com', 1), ('db.com', 1), ('ddp-ny.com', 1), ('dinascorp.com', 1), ('drsmood.com', 1), ('ducecc.com', 1), ('dundyglass.com', 1), ('jibei.com', 1), ('ejork.com', 1), ('interstate-envelope.com', 1), ('gm-graphics.com', 1), ('easterneffects.com', 1), ('easterntabletop.com', 1), ('eclecticprops.com', 1), ('epl.com', 1), ('emgmediainc.com', 1), ('empressmam.com', 1), ('epic-pharma.com', 1), ('estee.com', 1), ('storagedeluxe.com', 1), ('evergreene.com', 1), ('export-sales.com', 1), ('fairwaymarket.com', 1), ('fatwitch.com', 1), ('faviana.com', 1), ('fayda.com', 1), ('fidelitypayment.com', 1), ('cvmventures.com', 1), ('foodfestdepot.com', 1), ('fcrc.com', 1), ('fraplaster.com', 1), ('unionstreetstudiollc.com', 1), ('manhattanfruitier.com', 1), ('gailer.com', 1), ('necsenergy.com', 1), ('gcreate.com', 1), ('globalterminals.com', 1), ('corkfloor.com', 1), ('goldsteincapital.com', 1), ('gothamgreens.com', 1), ('gourmetboutique.com', 1), ('glarchiects.com', 1), ('graham-windham.org', 1), ('grandstandsports.com', 1), ('officegreenfelds.com', 1), ('grimmales.com', 1), ('gustavrestoration.com', 1), ('haleandhearty.com', 1), ('vinegarhillhc.com', 1), ('halmarkarchitectural.com', 1), ('halo.com', 1), ('hbsteel.com', 1), ('heinsenproducts.com', 1), ('herculesht.com', 1), ('alo.com', 1), ('highlinestages.com', 1), ('hgstones.com', 1), ('millerblaker.com', 1), ('mrtcarting.com', 1), ('houseofspicesindia.com', 1), ('icloud.com', 1), ('heyhush.com', 1), ('hydromx', 1), ('maliamills.com', 1), ('idlelectric.com', 1), ('iehcorp.com', 1), ('ikea.com', 1), ('innergaze.com', 1), ('insekdesign.com', 1), ('ArtexFAS.com', 1), ('galwein.com', 1), ('jandjjohnson.com', 1), ('optonline.net', 1), ('jcrew.com', 1), ('mrchocolate.com', 1), ('janusproperty.com', 1), ('johnsnyc.com', 1), ('jetrord.com', 1), ('jprmechanical.com', 1), ('justbagels.com', 1), ('us.klinelogistics.com', 1), ('sureiron.com', 1), ('usa.com', 1), ('karrgraphics.com', 1), ('thekatirollcompany.com', 1), ('kaufmanastoria.com', 1), ('kickstarter.com', 1), ('am.kwe.com', 1), ('kflawny.com', 1), ('Krinos.com', 1), ('lafarge-na.com', 1), ('lafayette148.com', 1), ('lafgrind.com', 1), ('leespring.com', 1), ('liquid8technology.net', 1), ('horizonmills.net', 1), ('livestream.com', 1), ('proaudiostar.com', 1), ('longislandconcrete.net', 1), ('mandrcpas.com', 1), ('madamepaulette.com', 1), ('madelainechocolate.com', 1), ('mecny.com', 1), ('mariebelle.com', 1), ('maricmechanical.com', 1), ('marinaicecream.com', 1), ('marjam.com', 1), ('matros.com', 1), ('cmcinnis.com', 1), ('mechoshade.com', 1), ('MESORAH.COM', 1), ('mcfina.com', 1), ('mkjcomm.com', 1), ('gomondial.com', 1), ('montebellofoods.com', 1), ('mytworks.com', 1), ('nationalacoustics.com', 1), ('nationaltextile.net', 1), ('kaufmanshoe.com', 1), ('natuzzibrosice.com', 1), ('jansproperty.com', 1), ('neumanskitch.com', 1), ('newconceptsllc.com', 1), ('heydenryk.com', 1), ('palacepaints.com', 1), ('nybc.org', 1), ('nydigitalcolor.com', 1), ('nyfusa.com', 1), ('takecareof.com', 1), ('novaprinting.com', 1), ('adenovarebiologistics.com', 1), ('noveltycrystal.com', 1), ('NovoArts.com', 1), ('nulux.com', 1), ('artimusnyc.com', 1), ('ohnuts.com', 1), ('onegirlcookies.com', 1), ('otherhalfbrewing.com', 1), ('orwashers.com', 1), ('paindavignon-nyc.com', 1), ('paperenterprises.com', 1), ('paralleldevelopment.net', 1), ('optimum.net', 1), ('parsons-meares.com', 1), ('empiremerchants.com', 1), ('raviolistore.com', 1), ('pepsi-ny.com', 1), ('petcarerx.com', 1), ('forbee.com', 1), ('picturefarmpro.com', 1), ('pintoandtegerelectric.com', 1), ('pdoinc.com', 1), ('truepill.com', 1), ('presentationproducts.com', 1), ('nicka.com', 1), ('qualitycasting.com', 1), ('lightsup.info', 1), ('rainbowplasticsinc.com', 1), ('rdsdelivery.com', 1), ('financierpastries.com', 1), ('myredrabbit.com', 1), ('rph.nyc', 1), ('digitallaundry.net', 1), ('rogerssurveying.com', 1), ('rusa.com', 1), ('catbirdnyc.com', 1), ('mac.com', 1), ('eliteairlineservices.com', 1), ('missgrimble.com', 1), ('russanddaughters.com', 1), ('rwsandassociates.com', 1), ('slaerospace.com', 1), ('safeart.com', 1), ('sculpturehousecasting.com', 1), ('sdcdesigns.com', 1), ('signsanddecal.com', 1), ('sillyphillie.com', 1), ('silverhillarts.com', 1), ('siminternational.com', 1), ('simdev.com', 1), ('tradesupplygroup.com', 1), ('influencegraphics.com', 1), ('colossalmediagroup.com', 1), ('skylinerestoration.com', 1), ('skylinewindows.com', 1), ('soharlem.org', 1), ('spaethdesign.com', 1), ('charter.com', 1), ('squarerootsgrow.com', 1), ('foodtravelexperts.com', 1), ('stallionnyc.com', 1), ('standandbuild.com', 1), ('stinkstudio.com', 1), ('brooklyngrangefarm.com', 1), ('sweetsams.com', 1), ('talasonline.com', 1), ('teigroup.com', 1), ('thebronxbrewery.com', 1), ('dime.com', 1), ('gluckplus.com', 1), ('handytool.com', 1), ('lobsterplace.com', 1), ('gtmachinetool.com', 1), ('nyu.edu', 1), ('titone.com', 1), ('tonerquest.com', 1), ('tracywatts.com', 1), ('ultraflex.com', 1), ('transmitterbrewing.com', 1), ('ceqy.com', 1), ('triplumbing.com', 1), ('pepsico.com', 1), ('tmitrading.com', 1), ('Twoseven.net', 1), ('ulano.com', 1), ('unitedair.com', 1), ('unfcu.com', 1), ('uwgny.com', 1), ('urbanarchaeology.com', 1), ('urbangreenfurniture.com', 1), ('usta.com', 1), ('vbcpkg.com', 1), ('vaynermedia.com', 1), ('vera.org', 1), ('petrossian.com', 1), ('vnsny.org', 1), ('prattindustries.com', 1), ('vivatime.com', 1), ('w-architecture.com', 1), ('waterliliesfood.com', 1), ('watermark-designs.com', 1), ('weaponspecialists.com', 1), ('werwaissandco.com', 1), ('harlembiospace.com', 1), ('whitecoffee.com', 1), ('acmesalesgroup.com', 1), ('prodigy.net', 1), ('wildedibles.com', 1), ('hirdco.com', 1), ('WSGC.com', 1), ('wontonfood.com', 1), ('wwps.com', 1), ('wudfurniture.com', 1), ('wurtec.com', 1)]\n"
     ]
    }
   ],
   "source": [
    "import re\n",
    "from collections import Counter\n",
    "\n",
    "domains = []\n",
    "\n",
    "for line in email_list:\n",
    "    line = line.split('@')\n",
    "    if line[-1] != \"\":\n",
    "        domains.append(line[-1])\n",
    "\n",
    "mails_value = Counter(domains).most_common()\n",
    "\n",
    "print(mails_value)   "
   ]
  },
  {
   "cell_type": "code",
   "execution_count": 9,
   "id": "c9ac6cc4",
   "metadata": {},
   "outputs": [
    {
     "data": {
      "text/plain": [
       "361"
      ]
     },
     "execution_count": 9,
     "metadata": {},
     "output_type": "execute_result"
    }
   ],
   "source": [
    "len(mails_value)"
   ]
  },
  {
   "cell_type": "markdown",
   "id": "9722332b",
   "metadata": {},
   "source": [
    "\n",
    "Considering only NTAs with at least 5 listed businesses, what is the average total savings and the total jobs created for each NTA?\n"
   ]
  },
  {
   "cell_type": "code",
   "execution_count": 10,
   "id": "0a7e12e5",
   "metadata": {},
   "outputs": [
    {
     "data": {
      "text/plain": [
       "79"
      ]
     },
     "execution_count": 10,
     "metadata": {},
     "output_type": "execute_result"
    }
   ],
   "source": [
    "VECSPSB[\"NTA\"].nunique()"
   ]
  },
  {
   "cell_type": "code",
   "execution_count": 11,
   "id": "0259277b",
   "metadata": {},
   "outputs": [],
   "source": [
    "from statistics import mean\n",
    "\n",
    "NTA_df = VECSPSB.groupby('NTA')\\\n",
    "         .agg(Av_Save=('Total Savings','mean'), Total_Jobs=('Job created','sum'))\\\n",
    "         .reset_index()"
   ]
  },
  {
   "cell_type": "code",
   "execution_count": 12,
   "id": "a532df66",
   "metadata": {},
   "outputs": [],
   "source": [
    "NTA_Sorted = NTA_df.sort_values(by=['Total_Jobs'], ascending=False)"
   ]
  },
  {
   "cell_type": "code",
   "execution_count": 13,
   "id": "08b09e0e",
   "metadata": {},
   "outputs": [],
   "source": [
    "Final_NTA_df = NTA_Sorted.head(5)"
   ]
  },
  {
   "cell_type": "code",
   "execution_count": 14,
   "id": "2580ce3a",
   "metadata": {},
   "outputs": [
    {
     "data": {
      "text/html": [
       "<div>\n",
       "<style scoped>\n",
       "    .dataframe tbody tr th:only-of-type {\n",
       "        vertical-align: middle;\n",
       "    }\n",
       "\n",
       "    .dataframe tbody tr th {\n",
       "        vertical-align: top;\n",
       "    }\n",
       "\n",
       "    .dataframe thead th {\n",
       "        text-align: right;\n",
       "    }\n",
       "</style>\n",
       "<table border=\"1\" class=\"dataframe\">\n",
       "  <thead>\n",
       "    <tr style=\"text-align: right;\">\n",
       "      <th></th>\n",
       "      <th>NTA</th>\n",
       "      <th>Av_Save</th>\n",
       "      <th>Total_Jobs</th>\n",
       "    </tr>\n",
       "  </thead>\n",
       "  <tbody>\n",
       "    <tr>\n",
       "      <th>69</th>\n",
       "      <td>Steinway</td>\n",
       "      <td>11227.155714</td>\n",
       "      <td>20.0</td>\n",
       "    </tr>\n",
       "    <tr>\n",
       "      <th>23</th>\n",
       "      <td>East New York</td>\n",
       "      <td>48433.093333</td>\n",
       "      <td>15.0</td>\n",
       "    </tr>\n",
       "    <tr>\n",
       "      <th>37</th>\n",
       "      <td>Hunts Point</td>\n",
       "      <td>39246.016154</td>\n",
       "      <td>12.0</td>\n",
       "    </tr>\n",
       "    <tr>\n",
       "      <th>42</th>\n",
       "      <td>Maspeth</td>\n",
       "      <td>6658.283333</td>\n",
       "      <td>10.0</td>\n",
       "    </tr>\n",
       "    <tr>\n",
       "      <th>74</th>\n",
       "      <td>Whitestone</td>\n",
       "      <td>62038.306667</td>\n",
       "      <td>10.0</td>\n",
       "    </tr>\n",
       "  </tbody>\n",
       "</table>\n",
       "</div>"
      ],
      "text/plain": [
       "              NTA       Av_Save  Total_Jobs\n",
       "69       Steinway  11227.155714        20.0\n",
       "23  East New York  48433.093333        15.0\n",
       "37    Hunts Point  39246.016154        12.0\n",
       "42        Maspeth   6658.283333        10.0\n",
       "74     Whitestone  62038.306667        10.0"
      ]
     },
     "execution_count": 14,
     "metadata": {},
     "output_type": "execute_result"
    }
   ],
   "source": [
    "Final_NTA_df"
   ]
  },
  {
   "cell_type": "code",
   "execution_count": 15,
   "id": "882c145c",
   "metadata": {},
   "outputs": [],
   "source": [
    "Final_NTA_df.to_csv('Final_NTA_df.csv', index=False)"
   ]
  },
  {
   "cell_type": "code",
   "execution_count": null,
   "id": "7a2fdab8",
   "metadata": {},
   "outputs": [],
   "source": []
  }
 ],
 "metadata": {
  "kernelspec": {
   "display_name": "Python 3 (ipykernel)",
   "language": "python",
   "name": "python3"
  },
  "language_info": {
   "codemirror_mode": {
    "name": "ipython",
    "version": 3
   },
   "file_extension": ".py",
   "mimetype": "text/x-python",
   "name": "python",
   "nbconvert_exporter": "python",
   "pygments_lexer": "ipython3",
   "version": "3.9.13"
  }
 },
 "nbformat": 4,
 "nbformat_minor": 5
}
